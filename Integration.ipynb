{
 "cells": [
  {
   "cell_type": "markdown",
   "metadata": {},
   "source": [
    "# SBAR 2 and Writing Assignment 1\n",
    "\n",
    "#### Prof John Golden\n",
    "#### MTH-201-02\n",
    "#### Bailey Freund"
   ]
  },
  {
   "cell_type": "markdown",
   "metadata": {},
   "source": [
    "#### Integration can be used for several purposes, including:\n",
    "    Finding Area of function\n",
    "    Finding the average of a continuous function\n",
    "    Finding the volume of a shape\n",
    "    \n",
    "In this assignment we will explore how integration can be applied to finding the area under the curve of some function and how integration can be used to find the average of a continuous function.\n",
    "\n",
    "# Let's have some fun!!!\n"
   ]
  },
  {
   "cell_type": "markdown",
   "metadata": {},
   "source": [
    "### Defining functions in python\n",
    "\n",
    "Below I am defining a function f(x)=x^2. Mathematical functions can be represented in python this way."
   ]
  },
  {
   "cell_type": "code",
   "execution_count": 59,
   "metadata": {
    "collapsed": false
   },
   "outputs": [
    {
     "name": "stdout",
     "output_type": "stream",
     "text": [
      "25\n"
     ]
    }
   ],
   "source": [
    "import numpy\n",
    "\n",
    "def f(x): #Function: f(x) = x^2\n",
    "    return x**2\n",
    "print(f(5))"
   ]
  },
  {
   "cell_type": "markdown",
   "metadata": {},
   "source": [
    "### Graphing\n",
    "\n",
    "In addition to creating mathematical functions, it is also possible to graph those functions using a prebuilt library called matplotlib. Below I graph the function f(x) (defined above) between 0 and 10."
   ]
  },
  {
   "cell_type": "code",
   "execution_count": 60,
   "metadata": {
    "collapsed": false
   },
   "outputs": [
    {
     "data": {
      "image/png": "[encoded data removed]",
      "text/plain": [
       "<matplotlib.figure.Figure at 0x10e7aad68>"
      ]
     },
     "metadata": {},
     "output_type": "display_data"
    }
   ],
   "source": [
    "import matplotlib.pyplot as plt\n",
    "fx = []\n",
    "for x in range(10):\n",
    "    fx.append(f(x))\n",
    "plt.plot(fx)\n",
    "plt.show()\n",
    "    "
   ]
  },
  {
   "cell_type": "markdown",
   "metadata": {},
   "source": [
    "### Integrals\n",
    "\n",
    "An integral can be measured by summing rectangles under a curve and adding them together. When performing an integral, you want to use as many samplings as possible. In my function I will define the sampling as a variable called N."
   ]
  },
  {
   "cell_type": "code",
   "execution_count": 61,
   "metadata": {
    "collapsed": false
   },
   "outputs": [],
   "source": [
    "import numpy as np\n",
    "def integrate(f, start, end, N):\n",
    "    x = np.linspace(start,end,N) # np.linspace is a numpy function that makes a continuous function based on start and end points\n",
    "    fx=f(x)\n",
    "    area = np.sum(fx)*(end-start)/N\n",
    "    return area\n",
    "\n",
    "integral_vals = {'x':[], 'y':[], 'label':[]}"
   ]
  },
  {
   "cell_type": "markdown",
   "metadata": {},
   "source": [
    "#### Using the integrate function\n",
    "\n",
    "Now that I have defined the integrate function I can pass it some function (f), a starting and ending point for the integration, and the number of rectangles to use to estimate the value of the integration."
   ]
  },
  {
   "cell_type": "code",
   "execution_count": 62,
   "metadata": {
    "collapsed": false
   },
   "outputs": [
    {
     "name": "stdout",
     "output_type": "stream",
     "text": [
      "388.888888889\n"
     ]
    }
   ],
   "source": [
    "int_4 = integrate(f,0,10,4)\n",
    "integral_vals['x'].append(4)\n",
    "integral_vals['y'].append(int_4)\n",
    "print(int_4)"
   ]
  },
  {
   "cell_type": "markdown",
   "metadata": {},
   "source": [
    "Note that the above integration utilizes 4 rectangles and resuts in an area of 388.88.\n",
    "\n",
    "#### Let's see what happens if we add more rectangles!"
   ]
  },
  {
   "cell_type": "code",
   "execution_count": 63,
   "metadata": {
    "collapsed": false
   },
   "outputs": [
    {
     "name": "stdout",
     "output_type": "stream",
     "text": [
      "375.0\n"
     ]
    }
   ],
   "source": [
    "int_5 = integrate(f,0,10,5)\n",
    "integral_vals['x'].append(5)\n",
    "integral_vals['y'].append(int_5)\n",
    "print(int_5)"
   ]
  },
  {
   "cell_type": "markdown",
   "metadata": {},
   "source": [
    "### Huh. The number gets smaller. Let's keep going!"
   ]
  },
  {
   "cell_type": "code",
   "execution_count": 64,
   "metadata": {
    "collapsed": false
   },
   "outputs": [
    {
     "name": "stdout",
     "output_type": "stream",
     "text": [
      "366.666666667\n"
     ]
    }
   ],
   "source": [
    "int_6 = integrate(f,0,10,6)\n",
    "integral_vals['x'].append(6)\n",
    "integral_vals['y'].append(int_6)\n",
    "print(int_6)"
   ]
  },
  {
   "cell_type": "code",
   "execution_count": 65,
   "metadata": {
    "collapsed": false
   },
   "outputs": [
    {
     "name": "stdout",
     "output_type": "stream",
     "text": [
      "351.851851852\n"
     ]
    }
   ],
   "source": [
    "int_10 = integrate(f,0,10,10)\n",
    "integral_vals['x'].append(10)\n",
    "integral_vals['y'].append(int_10)\n",
    "print(int_10)"
   ]
  },
  {
   "cell_type": "code",
   "execution_count": 66,
   "metadata": {
    "collapsed": false
   },
   "outputs": [
    {
     "name": "stdout",
     "output_type": "stream",
     "text": [
      "342.105263158\n"
     ]
    }
   ],
   "source": [
    "int_20 = integrate(f,0,10,20)\n",
    "integral_vals['x'].append(20)\n",
    "integral_vals['y'].append(int_20)\n",
    "print(int_20)"
   ]
  },
  {
   "cell_type": "code",
   "execution_count": 67,
   "metadata": {
    "collapsed": false
   },
   "outputs": [
    {
     "name": "stdout",
     "output_type": "stream",
     "text": [
      "336.734693878\n"
     ]
    }
   ],
   "source": [
    "int_50 = integrate(f,0,10,50)\n",
    "integral_vals['x'].append(50)\n",
    "integral_vals['y'].append(int_50)\n",
    "print(int_50)"
   ]
  },
  {
   "cell_type": "code",
   "execution_count": 68,
   "metadata": {
    "collapsed": false
   },
   "outputs": [
    {
     "name": "stdout",
     "output_type": "stream",
     "text": [
      "335.016835017\n"
     ]
    }
   ],
   "source": [
    "int_100 = integrate(f,0,10,100)\n",
    "integral_vals['x'].append(100)\n",
    "integral_vals['y'].append(int_100)\n",
    "print(int_100)"
   ]
  },
  {
   "cell_type": "markdown",
   "metadata": {},
   "source": [
    "## Graphing the integral values"
   ]
  },
  {
   "cell_type": "code",
   "execution_count": 69,
   "metadata": {
    "collapsed": false
   },
   "outputs": [
    {
     "data": {
      "image/png": "[encoded data removed]",
      "text/plain": [
       "<matplotlib.figure.Figure at 0x10dd75cc0>"
      ]
     },
     "metadata": {},
     "output_type": "display_data"
    }
   ],
   "source": [
    "plt.figure(figsize=(10,8))\n",
    "plt.title('Integral Values', fontsize=20)\n",
    "plt.xlabel('x', fontsize=15)\n",
    "plt.ylabel('y', fontsize=15)\n",
    "plt.scatter(integral_vals['x'],integral_vals['y'])\n",
    "plt.show()"
   ]
  },
  {
   "cell_type": "markdown",
   "metadata": {},
   "source": [
    "### So we can find the area under a curve\n",
    "\n",
    "It can be noted that the more rectangles used to get the area the closer one gets to the true area. Thus, using an infinite number of infinitely small rectangles will result in an estimate of area that is so close to the real value that it can be called the real value. "
   ]
  },
  {
   "cell_type": "markdown",
   "metadata": {},
   "source": [
    "# Using integral to find average\n",
    "\n",
    "In addition to using an integral to find the area under a function, it can also be used to find the average value of a function on some interval.\n",
    "\n",
    "Let's find out how to do that."
   ]
  },
  {
   "cell_type": "markdown",
   "metadata": {},
   "source": [
    "### Finding average using integral\n",
    "\n",
    "Below is a function called f_ave (function average). To find the average of a function over some interval a->b, you must use the function:\n",
    "\n",
    "f_ave = 1/(b-a) * integral(f(x) dx) \n",
    "\n",
    "This is implemented below:"
   ]
  },
  {
   "cell_type": "code",
   "execution_count": 70,
   "metadata": {
    "collapsed": true
   },
   "outputs": [],
   "source": [
    "def f_ave(f, a, b, N):\n",
    "    return 1/(b-a)*integrate(f, a, b, N)"
   ]
  },
  {
   "cell_type": "code",
   "execution_count": 71,
   "metadata": {
    "collapsed": false
   },
   "outputs": [
    {
     "data": {
      "text/plain": [
       "33.333333500000002"
      ]
     },
     "execution_count": 71,
     "metadata": {},
     "output_type": "execute_result"
    }
   ],
   "source": [
    "f_ave(f,0,10,100000000)"
   ]
  },
  {
   "cell_type": "markdown",
   "metadata": {},
   "source": [
    "### Using other functions\n",
    "\n",
    "To use a function other than the one defined at the beginning of this notebook (f(x) = x^2) a new function just has to be defined and passed to either the integrate or the f_ave function.\n",
    "\n",
    "#### For example:"
   ]
  },
  {
   "cell_type": "code",
   "execution_count": 72,
   "metadata": {
    "collapsed": false
   },
   "outputs": [],
   "source": [
    "def g(x): #g(x) = x^3 + x - 100\n",
    "    return x**3+x-100#2.4*x**3 -2*x"
   ]
  },
  {
   "cell_type": "code",
   "execution_count": 73,
   "metadata": {
    "collapsed": false
   },
   "outputs": [
    {
     "data": {
      "image/png": "[encoded data removed]",
      "text/plain": [
       "<matplotlib.figure.Figure at 0x10e74f0b8>"
      ]
     },
     "metadata": {},
     "output_type": "display_data"
    }
   ],
   "source": [
    "import matplotlib.pyplot as plt\n",
    "gx = []\n",
    "for x in range(-100, 101):\n",
    "    gx.append(g(x))\n",
    "plt.plot(gx)\n",
    "plt.show()"
   ]
  },
  {
   "cell_type": "code",
   "execution_count": 74,
   "metadata": {
    "collapsed": false
   },
   "outputs": [
    {
     "data": {
      "text/plain": [
       "-19999.999999948577"
      ]
     },
     "execution_count": 74,
     "metadata": {},
     "output_type": "execute_result"
    }
   ],
   "source": [
    "integrate(g, -100, 100, 10000000)"
   ]
  },
  {
   "cell_type": "code",
   "execution_count": 75,
   "metadata": {
    "collapsed": false
   },
   "outputs": [
    {
     "data": {
      "text/plain": [
       "-99.999999999742883"
      ]
     },
     "execution_count": 75,
     "metadata": {},
     "output_type": "execute_result"
    }
   ],
   "source": [
    "f_ave(g,-100,100,10000000)"
   ]
  },
  {
   "cell_type": "markdown",
   "metadata": {},
   "source": [
    "# Conclusion\n",
    "\n",
    "Integrals can be used to find the area under a curve as well as finding the average of a function over some interval."
   ]
  }
 ],
 "metadata": {
  "anaconda-cloud": {},
  "kernelspec": {
   "display_name": "Python [conda root]",
   "language": "python",
   "name": "conda-root-py"
  },
  "language_info": {
   "codemirror_mode": {
    "name": "ipython",
    "version": 3
   },
   "file_extension": ".py",
   "mimetype": "text/x-python",
   "name": "python",
   "nbconvert_exporter": "python",
   "pygments_lexer": "ipython3",
   "version": "3.5.2"
  }
 },
 "nbformat": 4,
 "nbformat_minor": 1
}
